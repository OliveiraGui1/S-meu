{
  "nbformat": 4,
  "nbformat_minor": 0,
  "metadata": {
    "colab": {
      "provenance": [],
      "authorship_tag": "ABX9TyM86e4/xbcSZd+8GckIkeNP",
      "include_colab_link": true
    },
    "kernelspec": {
      "name": "python3",
      "display_name": "Python 3"
    },
    "language_info": {
      "name": "python"
    }
  },
  "cells": [
    {
      "cell_type": "markdown",
      "metadata": {
        "id": "view-in-github",
        "colab_type": "text"
      },
      "source": [
        "<a href=\"https://colab.research.google.com/github/OliveiraGui1/S-meu/blob/main/Aula_massaki_10_09_2024.ipynb\" target=\"_parent\"><img src=\"https://colab.research.google.com/assets/colab-badge.svg\" alt=\"Open In Colab\"/></a>"
      ]
    },
    {
      "cell_type": "code",
      "execution_count": 4,
      "metadata": {
        "colab": {
          "base_uri": "https://localhost:8080/"
        },
        "id": "7wKNP4O7XkAB",
        "outputId": "3e590da2-93d3-47d8-e68a-48423acc639c"
      },
      "outputs": [
        {
          "output_type": "stream",
          "name": "stdout",
          "text": [
            "Digite um numero inteiro:  -6\n",
            "O numero -6 e par.\n",
            "O numero -6 e negativo.\n"
          ]
        }
      ],
      "source": [
        "# Solicita ao usuario que insira um numero\n",
        "\n",
        "numero = int(input(\"Digite um numero inteiro:  \"))\n",
        "\n",
        "# Verifica se o numero e par ou impar\n",
        "\n",
        "if numero % 2 == 0:\n",
        "    print(f\"O numero {numero} e par.\")\n",
        "else:\n",
        "    print(f\"O numero {numero} e impar.\")\n",
        "\n",
        "# Verifica se o numero e positivo ou negativo\n",
        "\n",
        "if numero >= 0:\n",
        "    print(f\"O numero {numero} e positivo.\")\n",
        "else:\n",
        "    print(f\"O numero {numero} e negativo.\")\n",
        "\n",
        "\n"
      ]
    },
    {
      "cell_type": "code",
      "source": [
        "import math\n",
        "\n",
        "# Solicita ao usuário que insira um numero\n",
        "\n",
        "numero = float(input(\"Digite um numero: \"))\n",
        "\n",
        "# Calcula a raiz quadrada do numero\n",
        "\n",
        "if numero >=0:\n",
        "    raiz_quadrada = math.sqrt(numero)\n",
        "    print(f\"A raiz quadrada de {numero} é {raiz_quadrada:.2f}.\")\n",
        "else:\n",
        "  print(\"NÃO EXISTE RAIZ REAL PARA ESTE NUMERO!\")"
      ],
      "metadata": {
        "colab": {
          "base_uri": "https://localhost:8080/"
        },
        "id": "uUkWf6JfgGAk",
        "outputId": "cb240d96-3c78-44d6-cb7c-3c1960654203"
      },
      "execution_count": 9,
      "outputs": [
        {
          "output_type": "stream",
          "name": "stdout",
          "text": [
            "Digite um numero: 25\n",
            "A raiz quadrada de 25.0 é 5.00.\n"
          ]
        }
      ]
    },
    {
      "cell_type": "code",
      "source": [
        "# Solicita ao usuario que insira o comprimento e a largura da camiseta\n",
        "\n",
        "comprimento = float(input(\"Digite o comprimento da camiseta em centimetros: \"))\n",
        "largura = float(input(\"Digite a largura da camiseta em centimetros: \"))\n",
        "\n",
        "\n",
        "# Determina o tamanho da camiseta com base no comprimento e largura\n",
        "\n",
        "if comprimento <= 60 and largura <= 45:\n",
        "    tamanho = \"PP\"\n",
        "elif comprimento <= 65 and largura <= 48:\n",
        "    tamanho = \"P\"\n",
        "elif comprimento <= 70 and largura <= 51:\n",
        "    tamanho = \"M\"\n",
        "elif comprimento <= 75 and largura <= 54:\n",
        "    tamanho = \"G\"\n",
        "elif comprimento <= 80 and largura <= 57:\n",
        "    tamanho = \"GG\"\n",
        "else:\n",
        "    tamanho = \"XGG\"\n",
        "\n",
        "# Imprime o tamanho da camiseta\n",
        "\n",
        "print(f\"O tamanho da camiseta {tamanho}.\")\n"
      ],
      "metadata": {
        "colab": {
          "base_uri": "https://localhost:8080/"
        },
        "id": "00Y7LUEVieqm",
        "outputId": "02c306fa-83e3-4dca-e2f5-542c55284097"
      },
      "execution_count": 14,
      "outputs": [
        {
          "output_type": "stream",
          "name": "stdout",
          "text": [
            "Digite o comprimento da camiseta em centimetros: 70\n",
            "Digite a largura da camiseta em centimetros: 60\n",
            "O tamanho da camiseta XGG.\n"
          ]
        }
      ]
    }
  ]
}