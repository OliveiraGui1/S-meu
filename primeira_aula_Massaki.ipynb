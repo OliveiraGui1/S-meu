{
  "nbformat": 4,
  "nbformat_minor": 0,
  "metadata": {
    "colab": {
      "provenance": [],
      "authorship_tag": "ABX9TyPZKPkqW9wreMbtCtJwm1Pn",
      "include_colab_link": true
    },
    "kernelspec": {
      "name": "python3",
      "display_name": "Python 3"
    },
    "language_info": {
      "name": "python"
    }
  },
  "cells": [
    {
      "cell_type": "markdown",
      "metadata": {
        "id": "view-in-github",
        "colab_type": "text"
      },
      "source": [
        "<a href=\"https://colab.research.google.com/github/OliveiraGui1/S-meu/blob/main/primeira_aula_Massaki.ipynb\" target=\"_parent\"><img src=\"https://colab.research.google.com/assets/colab-badge.svg\" alt=\"Open In Colab\"/></a>"
      ]
    },
    {
      "cell_type": "code",
      "execution_count": 1,
      "metadata": {
        "colab": {
          "base_uri": "https://localhost:8080/"
        },
        "id": "d-bsQYlTfcUq",
        "outputId": "012fc106-04f8-4bef-d34f-fa4de136b62d"
      },
      "outputs": [
        {
          "output_type": "stream",
          "name": "stdout",
          "text": [
            "5\n"
          ]
        }
      ],
      "source": [
        "#comentario python\n",
        "a = 2\n",
        "b = 3\n",
        "soma = a+b\n",
        "print(soma)\n"
      ]
    },
    {
      "cell_type": "code",
      "source": [
        "#Calculo da média de dois valores\n",
        "v1 = float(input(\"Digite o primeiro valor: \"))\n",
        "v2 = float(input(\"Digite o segundo valor: \"))\n",
        "media = (v1+v2)/2\n",
        "print(\"A média é: \", media)\n"
      ],
      "metadata": {
        "colab": {
          "base_uri": "https://localhost:8080/"
        },
        "id": "nPMY59xRi9JV",
        "outputId": "6e53afb5-74f1-4f9b-f537-6e75e169c6c0"
      },
      "execution_count": 2,
      "outputs": [
        {
          "output_type": "stream",
          "name": "stdout",
          "text": [
            "Digite o primeiro valor: 2\n",
            "Digite o segundo valor: 4\n",
            "A média é:  3.0\n"
          ]
        }
      ]
    },
    {
      "cell_type": "code",
      "source": [
        "#exemplo 2\n",
        "base = float(input(\"Digite o valor da base: \"))\n",
        "altura = float(input(\"Digite o valor da altura: \"))\n",
        "area = (base*altura)/2\n",
        "print(\"A área do triângulo é: \", area)\n"
      ],
      "metadata": {
        "colab": {
          "base_uri": "https://localhost:8080/"
        },
        "id": "zTH1QPLPj0pC",
        "outputId": "cd166c1d-f8d3-4060-add4-e50f166653aa"
      },
      "execution_count": 3,
      "outputs": [
        {
          "output_type": "stream",
          "name": "stdout",
          "text": [
            "Digite o valor da base: 2\n",
            "Digite o valor da altura: 5\n",
            "A área do triângulo é:  5.0\n"
          ]
        }
      ]
    }
  ]
}